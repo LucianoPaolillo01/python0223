{
 "cells": [
  {
   "cell_type": "markdown",
   "id": "ad0b7b05-ced9-4945-a7dd-afa4e5616039",
   "metadata": {
    "tags": []
   },
   "source": [
    "# PC1"
   ]
  },
  {
   "cell_type": "markdown",
   "id": "a0fcbb9b-bb49-410a-aef1-c9d3b7c8f492",
   "metadata": {},
   "source": [
    "# Ejercicio 1"
   ]
  },
  {
   "cell_type": "code",
   "execution_count": 3,
   "id": "afedd44d-9108-4a1c-987d-8f126736ea77",
   "metadata": {},
   "outputs": [
    {
     "name": "stdout",
     "output_type": "stream",
     "text": [
      "Ingrese sus nombres\n",
      "Ingrese sus apellidos\n",
      "Luciano Paolillo Crose\n"
     ]
    }
   ],
   "source": [
    "print(\"Ingrese sus nombres\")\n",
    "nombres = str(input())\n",
    "\n",
    "print(\"Ingrese sus apellidos\")\n",
    "apellidos = str(input())\n",
    "\n",
    "print(nombres + \" \" + apellidos)\n"
   ]
  },
  {
   "cell_type": "markdown",
   "id": "b0759512-fe49-4e6a-87aa-da1b508cf742",
   "metadata": {},
   "source": [
    "# Ejercicio 2"
   ]
  },
  {
   "cell_type": "code",
   "execution_count": null,
   "id": "128b123b-d479-4084-99de-284ecc68ceda",
   "metadata": {},
   "outputs": [],
   "source": []
  },
  {
   "cell_type": "markdown",
   "id": "87391014-ae86-4eaa-8a6b-44cd47d4cc5b",
   "metadata": {},
   "source": [
    "# Ejercicio 3"
   ]
  },
  {
   "cell_type": "code",
   "execution_count": 6,
   "id": "0420acd1-0962-40d3-898a-f67ac1aa2e97",
   "metadata": {},
   "outputs": [
    {
     "name": "stdout",
     "output_type": "stream",
     "text": [
      "6\n",
      "0\n",
      "6\n",
      "0.16666666666666666\n",
      "0\n"
     ]
    }
   ],
   "source": [
    "a=1\n",
    "b=2\n",
    "c=3\n",
    "\n",
    "print(a+b+c)\n",
    "print(c-b-a)\n",
    "print(a*b*c)\n",
    "print(a/b/c)\n",
    "print(a//b//c)"
   ]
  },
  {
   "cell_type": "markdown",
   "id": "1dcc8b31-5f24-4877-a5e1-bce2d8d2d6ae",
   "metadata": {},
   "source": [
    "# Ejercicio 4"
   ]
  },
  {
   "cell_type": "code",
   "execution_count": 87,
   "id": "4fa045ea-2f98-4877-990b-4c001647b0bf",
   "metadata": {},
   "outputs": [
    {
     "name": "stdout",
     "output_type": "stream",
     "text": [
      " 5\n"
     ]
    },
    {
     "name": "stdout",
     "output_type": "stream",
     "text": [
      "<class 'int'>\n"
     ]
    }
   ],
   "source": [
    "var=int(input())\n",
    "\n",
    "print(type(var))"
   ]
  },
  {
   "cell_type": "markdown",
   "id": "830c699a-5708-47c7-9b35-cff2ff17f046",
   "metadata": {},
   "source": [
    "# Ejercicio 5"
   ]
  },
  {
   "cell_type": "code",
   "execution_count": 5,
   "id": "a171d1de-1679-4eef-95b0-2861a52d857d",
   "metadata": {},
   "outputs": [
    {
     "name": "stdout",
     "output_type": "stream",
     "text": [
      "['C:\\\\Users\\\\paoli\\\\AppData\\\\Roaming\\\\Python\\\\Python39\\\\site-packages\\\\ipykernel_launcher.py', '--ip=127.0.0.1', '--stdin=9003', '--control=9001', '--hb=9000', '--Session.signature_scheme=\"hmac-sha256\"', '--Session.key=b\"1ef9130e-e2ef-4174-8e2f-1a81c3443f5e\"', '--shell=9002', '--transport=\"tcp\"', '--iopub=9004', '--f=c:\\\\Users\\\\paoli\\\\AppData\\\\Roaming\\\\jupyter\\\\runtime\\\\kernel-v2-7732X6mSnxFYr6HI.json']\n"
     ]
    }
   ],
   "source": [
    "import sys\n",
    "\n",
    "variable = sys.argv\n",
    "\n",
    "print(variable)"
   ]
  },
  {
   "cell_type": "markdown",
   "id": "36a32968-233a-42cc-bd7e-7ea95404dce1",
   "metadata": {},
   "source": [
    "# Ejercicio 6"
   ]
  },
  {
   "cell_type": "code",
   "execution_count": 7,
   "id": "f1ca3edf-3da2-49c5-8268-668c5e6131c5",
   "metadata": {},
   "outputs": [
    {
     "data": {
      "text/plain": [
       "15"
      ]
     },
     "execution_count": 7,
     "metadata": {},
     "output_type": "execute_result"
    }
   ],
   "source": [
    "lista=[]\n",
    "\n",
    "for x in range(int(input())):\n",
    "    lista.append(x+1)\n",
    "    \n",
    "sum(lista)"
   ]
  },
  {
   "cell_type": "markdown",
   "id": "639b54e1-3abe-4fef-9bc3-0f557c62bc45",
   "metadata": {},
   "source": [
    "# Ejercicio 7"
   ]
  },
  {
   "cell_type": "code",
   "execution_count": 8,
   "id": "9d5574e6-5c14-4691-aa7b-850db5219179",
   "metadata": {},
   "outputs": [
    {
     "name": "stdout",
     "output_type": "stream",
     "text": [
      "\n",
      "Iguales:\n",
      "False\n",
      "\n",
      "Diferentes:\n",
      "True\n",
      "\n",
      "Mayor:\n",
      "False\n",
      "\n",
      "Menor:\n",
      "True\n"
     ]
    }
   ],
   "source": [
    "num1=int(input())\n",
    "num2=int(input())\n",
    "\n",
    "print(\"\")\n",
    "print(\"Iguales:\")\n",
    "print(num1==num2)\n",
    "print(\"\")\n",
    "print(\"Diferentes:\")\n",
    "print(num1!=num2)\n",
    "print(\"\")\n",
    "print(\"Mayor:\")\n",
    "print(num1>num2)\n",
    "print(\"\")\n",
    "print(\"Menor:\")\n",
    "print(num1<=num2)"
   ]
  },
  {
   "cell_type": "markdown",
   "id": "a17a7632-434b-4ca0-8ce2-3d11ace029f8",
   "metadata": {},
   "source": [
    "# Ejercicio 8"
   ]
  },
  {
   "cell_type": "code",
   "execution_count": 10,
   "id": "6b072778-3ec6-4808-9238-3102c13d5a8d",
   "metadata": {},
   "outputs": [
    {
     "name": "stdout",
     "output_type": "stream",
     "text": [
      "Crear contraseña:\n",
      "\n",
      "Escribir nuevamente contraseña:\n",
      "Coincide\n"
     ]
    }
   ],
   "source": [
    "print(\"Crear contraseña:\")\n",
    "contraseña=str(input())\n",
    "\n",
    "print(\"\")\n",
    "\n",
    "print(\"Escribir nuevamente contraseña:\")\n",
    "contraseña2=str(input())\n",
    "\n",
    "if contraseña2==contraseña:\n",
    "    print(\"Coincide\")\n",
    "else:\n",
    "    print(\"No coincide\")"
   ]
  },
  {
   "cell_type": "markdown",
   "id": "d04c9e95-b0c2-4b37-b48f-95ba38657c61",
   "metadata": {},
   "source": [
    "# Ejercicio 9"
   ]
  },
  {
   "cell_type": "code",
   "execution_count": 12,
   "id": "3768965c-0862-435b-b470-6816cd977ccf",
   "metadata": {},
   "outputs": [
    {
     "data": {
      "text/plain": [
       "[('Valeria', 21, 1801)]"
      ]
     },
     "execution_count": 12,
     "metadata": {},
     "output_type": "execute_result"
    }
   ],
   "source": [
    "listap=[(\"Luciano\",19,\"vacio\"),(\"Valeria\",21,1801),(\"Diego\",13,1773),(\"Valentino\",12,1834)]\n",
    "listap2=[]\n",
    "\n",
    "for x in listap:\n",
    "    if x[1]>=18:\n",
    "        if type(x[2])==int:\n",
    "            listap2.append(x)\n",
    "        \n",
    "listap2"
   ]
  },
  {
   "cell_type": "markdown",
   "id": "661dedf9-8490-41b5-82e1-762dd0ec75bd",
   "metadata": {},
   "source": [
    "# Ejercicio 10"
   ]
  },
  {
   "cell_type": "code",
   "execution_count": 14,
   "id": "8acfe3aa-08d8-444c-808c-33177703c8b0",
   "metadata": {
    "tags": []
   },
   "outputs": [
    {
     "data": {
      "text/plain": [
       "{'nombre de curso': 'Curso especializacíón Python',\n",
       " 'cantidad de alumnos': 32,\n",
       " 'activo': True,\n",
       " 'nombre de profesor': 'Gianmarco',\n",
       " 'max nota': 20,\n",
       " 'alumnos': ['Valeria', 'Alonso', 'Luciano', 'Lucía']}"
      ]
     },
     "execution_count": 14,
     "metadata": {},
     "output_type": "execute_result"
    }
   ],
   "source": [
    "cursos={\"nombre de curso\" : str(input()), \n",
    " \"cantidad de alumnos\" : int(input()), \n",
    " \"activo\" : True, \n",
    " \"nombre de profesor\" : str(input()),\n",
    " \"max nota\" : int(input()),\n",
    " \"alumnos\" : [\"Valeria\",\"Alonso\",\"Luciano\",\"Lucía\"]}\n",
    "\n",
    "cursos"
   ]
  }
 ],
 "metadata": {
  "kernelspec": {
   "display_name": "Python 3 (ipykernel)",
   "language": "python",
   "name": "python3"
  },
  "language_info": {
   "codemirror_mode": {
    "name": "ipython",
    "version": 3
   },
   "file_extension": ".py",
   "mimetype": "text/x-python",
   "name": "python",
   "nbconvert_exporter": "python",
   "pygments_lexer": "ipython3",
   "version": "3.9.0"
  }
 },
 "nbformat": 4,
 "nbformat_minor": 5
}
